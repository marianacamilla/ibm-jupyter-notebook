{
 "cells": [
  {
   "attachments": {},
   "cell_type": "markdown",
   "id": "625d2c36-e8bd-4839-9a86-d0e20be301ad",
   "metadata": {},
   "source": [
    "# Pratice with Jupyter Notebook"
   ]
  },
  {
   "attachments": {},
   "cell_type": "markdown",
   "id": "1af5a69d-5ceb-4c6c-a66c-29598a3587e9",
   "metadata": {},
   "source": [
    "This notebook provides exercises to practice various concepts in data science and coding."
   ]
  },
  {
   "attachments": {},
   "cell_type": "markdown",
   "id": "0a9a8919-789e-4536-ad10-aafaace5cd72",
   "metadata": {},
   "source": [
    "### Data Sciece Languagens"
   ]
  },
  {
   "attachments": {},
   "cell_type": "markdown",
   "id": "c4c5fb5c-55b0-443d-a903-b4d1ac678f29",
   "metadata": {},
   "source": [
    "- Python\n",
    "- R\n",
    "- SQL\n",
    "- Julia"
   ]
  },
  {
   "attachments": {},
   "cell_type": "markdown",
   "id": "cce497af-7d99-4adb-bf5b-12a71f85e15e",
   "metadata": {},
   "source": [
    "### Data Science Libraries\n",
    "- NumPy\n",
    "- Pandas\n",
    "- Scikit-learn\n",
    "- TensorFlow\n",
    "- Keras"
   ]
  },
  {
   "attachments": {},
   "cell_type": "markdown",
   "id": "7408a859-be03-45c6-a30a-0870ff9f040d",
   "metadata": {},
   "source": [
    "### Data Science Tools\n",
    "\n",
    "| Tool           | Description                                  |\n",
    "|----------------|----------------------------------------------|\n",
    "| Jupyter Notebook | Interactive coding environment               |\n",
    "| RStudio        | Integrated development environment for R     |\n",
    "| Tableau        | Data visualization and analytics tool        |\n",
    "| Git            | Version control system for code management   |"
   ]
  },
  {
   "attachments": {},
   "cell_type": "markdown",
   "id": "e22fb73f-e80a-41ce-a8d6-fbdfe37a5104",
   "metadata": {},
   "source": [
    "### Arithmetic Expression Examples\n",
    "- Addition: 2 + 3 = 5\n",
    "- Subtraction: 5 - 2 = 3\n",
    "- Multiplication: 4 * 6 = 24\n",
    "- Division: 10 / 2 = 5"
   ]
  },
  {
   "cell_type": "code",
   "execution_count": 9,
   "id": "b19e9011-0708-4749-9cf3-124bee801aab",
   "metadata": {
    "tags": []
   },
   "outputs": [
    {
     "data": {
      "text/plain": [
       "(50, 11)"
      ]
     },
     "execution_count": 9,
     "metadata": {},
     "output_type": "execute_result"
    }
   ],
   "source": [
    "# Multiplication\n",
    "result_mult = 5 * 10\n",
    "\n",
    "# Addition\n",
    "result_add = 8 + 3\n",
    "\n",
    "result_mult, result_add"
   ]
  },
  {
   "cell_type": "code",
   "execution_count": 8,
   "id": "3cb013e9-5915-4227-b4ca-c4f1a75ced23",
   "metadata": {
    "tags": []
   },
   "outputs": [
    {
     "data": {
      "text/plain": [
       "5.333333333333333"
      ]
     },
     "execution_count": 8,
     "metadata": {},
     "output_type": "execute_result"
    }
   ],
   "source": [
    "minutes = 320\n",
    "hours = minutes / 60\n",
    "\n",
    "hours"
   ]
  },
  {
   "attachments": {},
   "cell_type": "markdown",
   "id": "44dd61b5-7712-4e16-9ab0-b7de1ceda0d8",
   "metadata": {},
   "source": [
    "### Objectives\n",
    "- Practice creating markdown cells\n",
    "- Perform basic arithmetic operations\n",
    "- Convert units of time\n",
    "- Share notebook on GitHub"
   ]
  },
  {
   "attachments": {},
   "cell_type": "markdown",
   "id": "1f8c80f6-1413-40d9-a340-288ec139158f",
   "metadata": {},
   "source": [
    "### Author\n",
    "John Doe"
   ]
  },
  {
   "cell_type": "code",
   "execution_count": null,
   "id": "0f5d11d1-3d04-45e0-bf31-644511da0b06",
   "metadata": {},
   "outputs": [],
   "source": []
  }
 ],
 "metadata": {
  "kernelspec": {
   "display_name": "Python",
   "language": "python",
   "name": "conda-env-python-py"
  },
  "language_info": {
   "codemirror_mode": {
    "name": "ipython",
    "version": 3
   },
   "file_extension": ".py",
   "mimetype": "text/x-python",
   "name": "python",
   "nbconvert_exporter": "python",
   "pygments_lexer": "ipython3",
   "version": "3.7.12"
  }
 },
 "nbformat": 4,
 "nbformat_minor": 5
}
